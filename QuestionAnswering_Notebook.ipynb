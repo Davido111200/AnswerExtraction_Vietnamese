{
  "cells": [
    {
      "cell_type": "code",
      "execution_count": 1,
      "metadata": {
        "colab": {
          "base_uri": "https://localhost:8080/"
        },
        "id": "6DyvCTnJr88H",
        "outputId": "19e8c021-904f-43aa-f833-b668564c1c8b"
      },
      "outputs": [
        {
          "name": "stdout",
          "output_type": "stream",
          "text": [
            "Mounted at /content/drive\n"
          ]
        }
      ],
      "source": [
        "from google.colab import drive\n",
        "drive.mount('/content/drive')"
      ]
    },
    {
      "cell_type": "code",
      "execution_count": null,
      "metadata": {
        "colab": {
          "base_uri": "https://localhost:8080/"
        },
        "id": "dRnzB-JNr-Yk",
        "outputId": "74e0c563-66c9-4fb2-eafb-b2e995fa95f6"
      },
      "outputs": [
        {
          "name": "stdout",
          "output_type": "stream",
          "text": [
            "/content/drive/MyDrive/Dai_nghiemtuc\n"
          ]
        }
      ],
      "source": [
        "cd \"/content/drive/MyDrive/Dai_nghiemtuc\""
      ]
    },
    {
      "cell_type": "code",
      "execution_count": null,
      "metadata": {
        "id": "jaTrSAzwdRjB"
      },
      "outputs": [],
      "source": [
        "!git clone https://github.com/Davido111200/QuestionAnswering_demoVbdi.git"
      ]
    },
    {
      "cell_type": "code",
      "execution_count": null,
      "metadata": {
        "colab": {
          "base_uri": "https://localhost:8080/"
        },
        "id": "GdA660NydcEy",
        "outputId": "0a204b62-c9a7-4d71-cc3c-8df8e0e65718"
      },
      "outputs": [
        {
          "name": "stdout",
          "output_type": "stream",
          "text": [
            "/content/drive/MyDrive/Dai_nghiemtuc/QuestionAnswering_demoVbdi\n"
          ]
        }
      ],
      "source": [
        "cd \"/content/drive/MyDrive/Dai_nghiemtuc/QuestionAnswering_demoVbdi\""
      ]
    },
    {
      "cell_type": "code",
      "execution_count": null,
      "metadata": {
        "id": "LhxxETjRi_TZ"
      },
      "outputs": [],
      "source": [
        "!pip install -r requirements.txt"
      ]
    },
    {
      "cell_type": "code",
      "execution_count": null,
      "metadata": {
        "id": "F942ww2AqqXh"
      },
      "outputs": [],
      "source": [
        "!pip install -q streamlit\n",
        "!pip install pyngrok"
      ]
    },
    {
      "cell_type": "code",
      "execution_count": null,
      "metadata": {
        "id": "K1twex9atIa1"
      },
      "outputs": [],
      "source": [
        "!unzip \"/content/drive/MyDrive/Dai_nghiemtuc/QuestionAnswering_demoVbdi/ngrok-v3-stable-windows-amd64.zip\" -d \"/content/drive/MyDrive/Dai_nghiemtuc/QuestionAnswering_demoVbdi\""
      ]
    },
    {
      "cell_type": "code",
      "execution_count": null,
      "metadata": {
        "id": "GyJok-kHubzm"
      },
      "outputs": [],
      "source": [
        "!pip install pyngrok"
      ]
    },
    {
      "cell_type": "code",
      "execution_count": null,
      "metadata": {
        "id": "_DKltX4JrGhq"
      },
      "outputs": [],
      "source": [
        "!./ngrok authtokens \"your_token\""
      ]
    },
    {
      "cell_type": "code",
      "execution_count": null,
      "metadata": {
        "colab": {
          "base_uri": "https://localhost:8080/"
        },
        "id": "uW9btP0xnPDO",
        "outputId": "e4b6127e-1490-4bb6-f23d-2cf619df24ec"
      },
      "outputs": [
        {
          "data": {
            "text/plain": [
              "<NgrokTunnel: \"http://c31b-34-143-218-152.ngrok.io\" -> \"http://localhost:80\">"
            ]
          },
          "execution_count": 10,
          "metadata": {},
          "output_type": "execute_result"
        }
      ],
      "source": [
        "# from pyngrok import ngrok \n",
        "# public_url = ngrok.connect(port='8501')\n",
        "# public_url"
      ]
    },
    {
      "cell_type": "code",
      "execution_count": null,
      "metadata": {
        "colab": {
          "base_uri": "https://localhost:8080/"
        },
        "id": "nh0PVzUDxY1T",
        "outputId": "0a181d56-92f8-4542-cda8-0f6f57f282ed"
      },
      "outputs": [
        {
          "name": "stderr",
          "output_type": "stream",
          "text": [
            "[nltk_data] Downloading package punkt to /root/nltk_data...\n",
            "[nltk_data]   Package punkt is already up-to-date!\n"
          ]
        },
        {
          "data": {
            "text/plain": [
              "True"
            ]
          },
          "execution_count": 11,
          "metadata": {},
          "output_type": "execute_result"
        }
      ],
      "source": [
        "import nltk\n",
        "nltk.download('punkt')"
      ]
    },
    {
      "cell_type": "code",
      "execution_count": null,
      "metadata": {
        "id": "fOs7o2Xd3ymJ"
      },
      "outputs": [],
      "source": [
        "!streamlit run app.py & npx localtunnel --port 8501"
      ]
    }
  ],
  "metadata": {
    "accelerator": "GPU",
    "colab": {
      "collapsed_sections": [],
      "machine_shape": "hm",
      "provenance": []
    },
    "kernelspec": {
      "display_name": "Python 3",
      "name": "python3"
    },
    "language_info": {
      "name": "python"
    }
  },
  "nbformat": 4,
  "nbformat_minor": 0
}
